{
 "cells": [
  {
   "cell_type": "code",
   "execution_count": 7,
   "metadata": {},
   "outputs": [
    {
     "data": {
      "text/plain": [
       "['.ipynb_checkpoints',\n",
       " '0000000000002419_readme_Readme.txt',\n",
       " '0000000000002419_test_ccpp_x_test.csv',\n",
       " '0000000000002419_training_ccpp_x_y_train.csv',\n",
       " 'Untitled.ipynb']"
      ]
     },
     "execution_count": 7,
     "metadata": {},
     "output_type": "execute_result"
    }
   ],
   "source": [
    "import os\n",
    "os.listdir()"
   ]
  },
  {
   "cell_type": "code",
   "execution_count": 11,
   "metadata": {},
   "outputs": [],
   "source": [
    "def step_gradient(x, y, m, learning_rate):\n",
    "    N = x.shape[0]\n",
    "    m_slope = -2/N*((y-(m*x).sum(axis=1)).reshape(-1, 1)*x).sum(axis=0)\n",
    "    new_m = m-learning_rate*m_slope\n",
    "    return new_m"
   ]
  },
  {
   "cell_type": "code",
   "execution_count": 14,
   "metadata": {},
   "outputs": [],
   "source": [
    "def cost(x, y, m):\n",
    "    N = x.shape[0]\n",
    "    return 1/N*((y-(m*x).sum(axis=1))**2).sum()"
   ]
  },
  {
   "cell_type": "code",
   "execution_count": 15,
   "metadata": {},
   "outputs": [],
   "source": [
    "def gd(x, y, learning_rate, num_iterations):\n",
    "    m = np.zeros(x.shape[1])\n",
    "    for i in range(num_iterations):\n",
    "        m = step_gradient(x, y, m, learning_rate)\n",
    "    return m"
   ]
  },
  {
   "cell_type": "code",
   "execution_count": 20,
   "metadata": {},
   "outputs": [],
   "source": [
    "def predict(m, x):\n",
    "    y_pred = (m*x).sum(axis=1)\n",
    "    return y_pred"
   ]
  },
  {
   "cell_type": "code",
   "execution_count": 31,
   "metadata": {},
   "outputs": [
    {
     "name": "stdout",
     "output_type": "stream",
     "text": [
      "[-1.49027293e+01 -2.89427819e+00  3.49739963e-01 -2.34230171e+00\n",
      "  4.54431293e+02]\n",
      "20.91174899030889\n"
     ]
    }
   ],
   "source": [
    "import numpy as np\n",
    "\n",
    "data = np.loadtxt('0000000000002419_training_ccpp_x_y_train.csv', delimiter=',')\n",
    "\n",
    "x = np.hstack((data[:, :-1], np.ones((len(data), 1))))\n",
    "y = data[:, -1]\n",
    "\n",
    "# scaling the features\n",
    "\n",
    "from sklearn.preprocessing import StandardScaler\n",
    "\n",
    "sc = StandardScaler()\n",
    "x[:, :4] = sc.fit_transform(x[:, :4])\n",
    "\n",
    "learning_rate = .1\n",
    "num_iterations = 1000\n",
    "m = gd(x, y, learning_rate, num_iterations)\n",
    "print(m)\n",
    "print(cost(x, y, m))\n",
    "\n",
    "data_test = np.loadtxt('0000000000002419_test_ccpp_x_test.csv', delimiter=',')\n",
    "x_test = np.hstack((data_test, np.ones((len(data_test), 1))))\n",
    "\n",
    "x_test[:, :4] = sc.fit_transform(x_test[:, :4])\n",
    "\n",
    "y_pred = predict(m, x_test)\n",
    "\n",
    "np.savetxt('y_pred.csv', y_pred, fmt='%.5f')"
   ]
  },
  {
   "cell_type": "code",
   "execution_count": 25,
   "metadata": {},
   "outputs": [
    {
     "name": "stdout",
     "output_type": "stream",
     "text": [
      "[297.69375202 326.74801768   3.07443014 ...  37.93597822 182.13768033\n",
      " 112.84460308]\n"
     ]
    }
   ],
   "source": [
    "from sklearn.linear_model import LinearRegression\n",
    "from sklearn.metrics import mean_squared_error\n",
    "\n",
    "model = LinearRegression()\n",
    "model.fit(x[:, :-1], y)\n",
    "y_pred = model.predict(data_test)\n",
    "print(y_pred)"
   ]
  },
  {
   "cell_type": "code",
   "execution_count": null,
   "metadata": {},
   "outputs": [],
   "source": []
  }
 ],
 "metadata": {
  "kernelspec": {
   "display_name": "Python 3",
   "language": "python",
   "name": "python3"
  },
  "language_info": {
   "codemirror_mode": {
    "name": "ipython",
    "version": 3
   },
   "file_extension": ".py",
   "mimetype": "text/x-python",
   "name": "python",
   "nbconvert_exporter": "python",
   "pygments_lexer": "ipython3",
   "version": "3.8.3"
  }
 },
 "nbformat": 4,
 "nbformat_minor": 4
}
